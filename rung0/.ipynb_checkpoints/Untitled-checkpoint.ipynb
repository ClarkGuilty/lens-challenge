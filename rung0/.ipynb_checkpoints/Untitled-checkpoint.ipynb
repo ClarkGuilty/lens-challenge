{
 "cells": [
  {
   "cell_type": "code",
   "execution_count": 19,
   "metadata": {
    "scrolled": true
   },
   "outputs": [
    {
     "name": "stdout",
     "output_type": "stream",
     "text": [
      "code1  code2  starting_guide.ipynb  Untitled.ipynb\r\n"
     ]
    }
   ],
   "source": [
    "!ls\n",
    "import numpy as np\n",
    "import matplotlib.pyplot as plt\n",
    "import lenstronomy as lens\n"
   ]
  },
  {
   "cell_type": "code",
   "execution_count": 20,
   "metadata": {},
   "outputs": [
    {
     "name": "stdout",
     "output_type": "stream",
     "text": [
      "ABCD.png\t\t\tnon_drizzled-noise_map-4.fits\r\n",
      "drizzled_image\t\t\tnon_drizzled-noise_map-5.fits\r\n",
      "lens_info_for_Good_team.txt\tnon_drizzled-noise_map-6.fits\r\n",
      "non_drizzled-lens-image-1.fits\tnon_drizzled-noise_map-7.fits\r\n",
      "non_drizzled-lens-image-2.fits\tnon_drizzled-noise_map-8.fits\r\n",
      "non_drizzled-lens-image-3.fits\tnon_drizzled_psf-1.fits\r\n",
      "non_drizzled-lens-image-4.fits\tnon_drizzled_psf-2.fits\r\n",
      "non_drizzled-lens-image-5.fits\tnon_drizzled_psf-3.fits\r\n",
      "non_drizzled-lens-image-6.fits\tnon_drizzled_psf-4.fits\r\n",
      "non_drizzled-lens-image-7.fits\tnon_drizzled_psf-5.fits\r\n",
      "non_drizzled-lens-image-8.fits\tnon_drizzled_psf-6.fits\r\n",
      "non_drizzled-noise_map-1.fits\tnon_drizzled_psf-7.fits\r\n",
      "non_drizzled-noise_map-2.fits\tnon_drizzled_psf-8.fits\r\n",
      "non_drizzled-noise_map-3.fits\r\n"
     ]
    }
   ],
   "source": [
    "!ls code1/f160w-seed3"
   ]
  },
  {
   "cell_type": "code",
   "execution_count": 35,
   "metadata": {},
   "outputs": [
    {
     "data": {
      "text/plain": [
       "array([[[-0.00329989,  0.03496665,  0.02027567, ..., -0.00140554,\n",
       "          0.02447011,  0.00546367],\n",
       "        [ 0.013203  ,  0.02846678,  0.00816731, ...,  0.01521499,\n",
       "          0.02250449,  0.02673655],\n",
       "        [ 0.02647781,  0.01928062,  0.02634895, ...,  0.02279568,\n",
       "          0.02167917,  0.02459253],\n",
       "        ...,\n",
       "        [ 0.01551361,  0.04423169,  0.03020876, ...,  0.0279233 ,\n",
       "          0.01457435, -0.00260117],\n",
       "        [ 0.02105146,  0.03709926,  0.037611  , ...,  0.02545281,\n",
       "          0.03013565,  0.01463334],\n",
       "        [ 0.00986602, -0.00136785,  0.02545079, ...,  0.01930844,\n",
       "          0.01736563,  0.01878002]],\n",
       "\n",
       "       [[-0.00383419,  0.03878537,  0.01676192, ...,  0.03685342,\n",
       "          0.01234654,  0.02254304],\n",
       "        [-0.00134155,  0.01632804,  0.00616172, ...,  0.03547825,\n",
       "          0.01063326,  0.02519973],\n",
       "        [-0.00573633,  0.01211874,  0.01834939, ...,  0.02537586,\n",
       "          0.02785004,  0.02914562],\n",
       "        ...,\n",
       "        [ 0.04331868,  0.00837112,  0.00863331, ...,  0.01609222,\n",
       "          0.02692314,  0.02842275],\n",
       "        [ 0.02864864,  0.02075601,  0.02004838, ...,  0.01594675,\n",
       "          0.01401   ,  0.01320827],\n",
       "        [-0.00686701,  0.0103212 ,  0.03075091, ...,  0.02818523,\n",
       "          0.01353009,  0.02309385]],\n",
       "\n",
       "       [[-0.00547035,  0.00123353,  0.01813616, ...,  0.00874201,\n",
       "          0.01610871,  0.00446382],\n",
       "        [ 0.0066377 ,  0.02241943,  0.03046092, ...,  0.02910821,\n",
       "          0.00061236,  0.01585342],\n",
       "        [ 0.02045257,  0.0033773 ,  0.03007454, ...,  0.02036881,\n",
       "          0.02189916,  0.0427614 ],\n",
       "        ...,\n",
       "        [ 0.02120015,  0.01641728,  0.00978267, ...,  0.04577524,\n",
       "          0.04348408,  0.0418056 ],\n",
       "        [ 0.02593371,  0.03019971,  0.02246574, ...,  0.01016777,\n",
       "          0.03356243,  0.01177431],\n",
       "        [ 0.00200943,  0.02103913,  0.01626876, ...,  0.02919455,\n",
       "          0.02927784,  0.01161788]],\n",
       "\n",
       "       ...,\n",
       "\n",
       "       [[ 0.03001422,  0.0068439 ,  0.02911409, ...,  0.02152767,\n",
       "          0.00845007,  0.02372382],\n",
       "        [ 0.01596984,  0.02082025,  0.01255858, ...,  0.01263735,\n",
       "          0.01732617,  0.01731658],\n",
       "        [ 0.01959856,  0.00760478,  0.02391582, ...,  0.01286595,\n",
       "          0.01130487,  0.03098682],\n",
       "        ...,\n",
       "        [ 0.00686078,  0.0182118 ,  0.01934726, ...,  0.03262924,\n",
       "          0.0320753 ,  0.03603937],\n",
       "        [ 0.02465548,  0.02182474,  0.04278691, ...,  0.02395218,\n",
       "          0.01347634,  0.01924867],\n",
       "        [ 0.01625774,  0.02063865,  0.02697194, ...,  0.03812708,\n",
       "          0.01298572,  0.01692876]],\n",
       "\n",
       "       [[ 0.02446758, -0.00106989, -0.00822571, ...,  0.03204266,\n",
       "          0.01349589,  0.01822984],\n",
       "        [ 0.01885066,  0.00653187,  0.01670167, ...,  0.01823894,\n",
       "          0.0083908 ,  0.01928707],\n",
       "        [ 0.01840292,  0.01801714,  0.01851416, ...,  0.03299649,\n",
       "          0.00852346,  0.03002501],\n",
       "        ...,\n",
       "        [-0.01383371,  0.02887634,  0.02986574, ...,  0.0337546 ,\n",
       "          0.01712828,  0.02135591],\n",
       "        [ 0.03786171,  0.03302663,  0.02127227, ...,  0.02725934,\n",
       "          0.02362906,  0.02157015],\n",
       "        [-0.00492349,  0.01680837,  0.01833687, ..., -0.00242189,\n",
       "          0.02686311,  0.00409923]],\n",
       "\n",
       "       [[ 0.0122732 ,  0.00709661,  0.02407173, ...,  0.01269605,\n",
       "          0.02457947,  0.02616991],\n",
       "        [ 0.00417877,  0.01694005,  0.01306648, ...,  0.0132618 ,\n",
       "          0.00854511,  0.02048057],\n",
       "        [ 0.02181757,  0.04600083,  0.02447028, ...,  0.01762037,\n",
       "          0.01660415,  0.03701787],\n",
       "        ...,\n",
       "        [ 0.02130233,  0.00312633,  0.03411673, ...,  0.03343512,\n",
       "          0.02041303,  0.00726021],\n",
       "        [ 0.01249251,  0.01588681,  0.04207758, ...,  0.01535558,\n",
       "          0.01639874,  0.006043  ],\n",
       "        [-0.00148305,  0.01225643,  0.02846842, ...,  0.02407233,\n",
       "          0.01985384,  0.02065451]]])"
      ]
     },
     "execution_count": 35,
     "metadata": {},
     "output_type": "execute_result"
    },
    {
     "data": {
      "image/png": "[encoded data removed]",
      "text/plain": [
       "<Figure size 432x288 with 1 Axes>"
      ]
     },
     "metadata": {
      "needs_background": "light"
     },
     "output_type": "display_data"
    }
   ],
   "source": [
    "from astropy.utils.data import download_file\n",
    "from astropy.io import fits\n",
    "\n",
    "path = 'code1/f160w-seed3/'\n",
    "\n",
    "im_lens = []\n",
    "for i in range(1,9):\n",
    "    im_lens.append(fits.getdata(path+\"non_drizzled-lens-image-\"+str(i)+\".fits\"))\n",
    "    test = fits.getdata(path+\"non_drizzled-lens-image-1.fits\")\n",
    "#plt.imshow(test[0].data,cmap = 'gray')\n",
    "    plt.imshow(im_lens[i-1],cmap='gray')\n",
    "    \n",
    "    \n",
    "im_lens = np.array(im_lens)"
   ]
  },
  {
   "cell_type": "code",
   "execution_count": 34,
   "metadata": {},
   "outputs": [
    {
     "data": {
      "text/plain": [
       "<matplotlib.image.AxesImage at 0x7f1bccce37b8>"
      ]
     },
     "execution_count": 34,
     "metadata": {},
     "output_type": "execute_result"
    },
    {
     "data": {
      "image/png": "[encoded data removed]",
      "text/plain": [
       "<Figure size 432x288 with 1 Axes>"
      ]
     },
     "metadata": {
      "needs_background": "light"
     },
     "output_type": "display_data"
    }
   ],
   "source": [
    "plt.imshow(im_lens[2],cmap='gray')"
   ]
  },
  {
   "cell_type": "code",
   "execution_count": null,
   "metadata": {},
   "outputs": [],
   "source": []
  },
  {
   "cell_type": "code",
   "execution_count": null,
   "metadata": {},
   "outputs": [],
   "source": []
  },
  {
   "cell_type": "code",
   "execution_count": null,
   "metadata": {},
   "outputs": [],
   "source": []
  },
  {
   "cell_type": "code",
   "execution_count": null,
   "metadata": {},
   "outputs": [],
   "source": []
  }
 ],
 "metadata": {
  "kernelspec": {
   "display_name": "Python 3",
   "language": "python",
   "name": "python3"
  },
  "language_info": {
   "codemirror_mode": {
    "name": "ipython",
    "version": 3
   },
   "file_extension": ".py",
   "mimetype": "text/x-python",
   "name": "python",
   "nbconvert_exporter": "python",
   "pygments_lexer": "ipython3",
   "version": "3.7.3"
  }
 },
 "nbformat": 4,
 "nbformat_minor": 2
}
